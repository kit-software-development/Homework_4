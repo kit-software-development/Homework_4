{
 "cells": [
  {
   "cell_type": "code",
   "execution_count": 20,
   "metadata": {},
   "outputs": [
    {
     "name": "stdout",
     "output_type": "stream",
     "text": [
      "[4, 16, 36]\n"
     ]
    }
   ],
   "source": [
    "l=[1, 2, 3, 4, 5, 6, 7]\n",
    "res=list(map(lambda n: n*n, list(filter(lambda n: n%2==0, l))))\n",
    "print(res)"
   ]
  },
  {
   "cell_type": "code",
   "execution_count": 31,
   "metadata": {},
   "outputs": [
    {
     "name": "stdout",
     "output_type": "stream",
     "text": [
      "['с', 'м', 'п']\n"
     ]
    }
   ],
   "source": [
    "string = 'Всем привет'\n",
    "nums = [1,3,5]\n",
    "res2=[x for x in string for y in nums if string.index(x)==y]\n",
    "print(res2)"
   ]
  },
  {
   "cell_type": "code",
   "execution_count": 37,
   "metadata": {},
   "outputs": [
    {
     "name": "stdout",
     "output_type": "stream",
     "text": [
      "['с', 'м', 'п']\n"
     ]
    }
   ],
   "source": [
    "res3=list(map(lambda n: string[n], nums))\n",
    "print(res3)"
   ]
  },
  {
   "cell_type": "code",
   "execution_count": 101,
   "metadata": {},
   "outputs": [
    {
     "name": "stdout",
     "output_type": "stream",
     "text": [
      "Припгоитоп птирирнпппптри. Пмпмрририри ирпрнп. Гппри. Доримчыоы.\n"
     ]
    }
   ],
   "source": [
    "some_text = 'ПриПГОитОП ПтирирнпПППТРи. ПМПМрририри ирпрнп. гппри. Доримчыоы.'\n",
    "\n",
    "some_text=some_text.split('.')\n",
    "for i in some_text:\n",
    "    if(len(i)==0):\n",
    "        del some_text[some_text.index(i)]\n",
    "        \n",
    "def funct(i):\n",
    "    a = i.lstrip().lower()\n",
    "    return a[0].upper()+a[1:]+'.'\n",
    "\n",
    "res4 = ' '.join(list(map(funct, some_text1)))\n",
    "print(res4)"
   ]
  },
  {
   "cell_type": "code",
   "execution_count": 36,
   "metadata": {},
   "outputs": [
    {
     "name": "stdout",
     "output_type": "stream",
     "text": [
      "[3, 7, 11]\n"
     ]
    }
   ],
   "source": [
    "import functools\n",
    "def pipeline_each(val, functions):\n",
    "    for function in functions:\n",
    "        val = function(val)\n",
    "    return val\n",
    "        \n",
    "functions = [ lambda x: x * 2,\n",
    "             lambda x: x * 3,\n",
    "             lambda x: x // 3,\n",
    "             lambda x: x + 1\n",
    "            ]\n",
    "nums = [1,3,5]\n",
    "res5 = list(map(functools.partial(pipeline_each,functions=functions), nums))\n",
    "print(res5)"
   ]
  },
  {
   "cell_type": "code",
   "execution_count": 41,
   "metadata": {},
   "outputs": [
    {
     "name": "stdout",
     "output_type": "stream",
     "text": [
      "['Прпои', 'порит', 'пн', 'п', 'евкао', 'о']\n"
     ]
    }
   ],
   "source": [
    "some_text = 'Прпои порит пн п евкао о'\n",
    "some_text=some_text.split(' ')\n",
    "res6 = list(map(lambda x: x, some_text))\n",
    "print(res6)"
   ]
  },
  {
   "cell_type": "code",
   "execution_count": 57,
   "metadata": {},
   "outputs": [
    {
     "name": "stdout",
     "output_type": "stream",
     "text": [
      "[15640, 11617, 17392, 19145]\n"
     ]
    }
   ],
   "source": [
    "import math\n",
    "import time\n",
    "\n",
    "n=5\n",
    "\n",
    "def random(seed,size):\n",
    "    r=[0 for i in range(size)]\n",
    "    r[0]=math.ceil(seed)\n",
    "    for i in range(1,size):\n",
    "        r[i]=math.ceil(math.fmod((23*r[i-1]+12345),32768))\n",
    "    return r[1:size]\n",
    "\n",
    "print(random(time.time(),n))\n"
   ]
  },
  {
   "cell_type": "code",
   "execution_count": 69,
   "metadata": {},
   "outputs": [
    {
     "name": "stdout",
     "output_type": "stream",
     "text": [
      "3\n",
      "4\n",
      "5\n",
      "31\n",
      "32\n",
      "33\n"
     ]
    }
   ],
   "source": [
    "def ar_progression(n=0):\n",
    "    while True:\n",
    "        res = yield n\n",
    "        if (res != None):\n",
    "            n = res\n",
    "        n += 1\n",
    "n=3   \n",
    "prog = ar_progression(n)\n",
    "print(next(prog))\n",
    "print(next(prog))\n",
    "print(next(prog))\n",
    "print(prog.send(30))\n",
    "print(next(prog))\n",
    "print(next(prog))"
   ]
  },
  {
   "cell_type": "code",
   "execution_count": null,
   "metadata": {},
   "outputs": [],
   "source": []
  }
 ],
 "metadata": {
  "kernelspec": {
   "display_name": "Python 3",
   "language": "python",
   "name": "python3"
  },
  "language_info": {
   "codemirror_mode": {
    "name": "ipython",
    "version": 3
   },
   "file_extension": ".py",
   "mimetype": "text/x-python",
   "name": "python",
   "nbconvert_exporter": "python",
   "pygments_lexer": "ipython3",
   "version": "3.7.4"
  }
 },
 "nbformat": 4,
 "nbformat_minor": 2
}
