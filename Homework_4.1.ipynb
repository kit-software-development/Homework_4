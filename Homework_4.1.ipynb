{
 "cells": [
  {
   "cell_type": "code",
   "execution_count": 20,
   "metadata": {},
   "outputs": [
    {
     "name": "stdout",
     "output_type": "stream",
     "text": [
      "[4, 16, 36]\n"
     ]
    }
   ],
   "source": [
    "l=[1, 2, 3, 4, 5, 6, 7]\n",
    "res=list(map(lambda n: n*n, list(filter(lambda n: n%2==0, l))))\n",
    "print(res)"
   ]
  },
  {
   "cell_type": "code",
   "execution_count": 31,
   "metadata": {},
   "outputs": [
    {
     "name": "stdout",
     "output_type": "stream",
     "text": [
      "['с', 'м', 'п']\n"
     ]
    }
   ],
   "source": [
    "string = 'Всем привет'\n",
    "nums = [1,3,5]\n",
    "res2=[x for x in string for y in nums if string.index(x)==y]\n",
    "print(res2)"
   ]
  },
  {
   "cell_type": "code",
   "execution_count": 37,
   "metadata": {},
   "outputs": [
    {
     "name": "stdout",
     "output_type": "stream",
     "text": [
      "['с', 'м', 'п']\n"
     ]
    }
   ],
   "source": [
    "res3=list(map(lambda n: string[n], nums))\n",
    "print(res3)"
   ]
  },
  {
   "cell_type": "code",
   "execution_count": 101,
   "metadata": {},
   "outputs": [
    {
     "name": "stdout",
     "output_type": "stream",
     "text": [
      "Припгоитоп птирирнпппптри. Пмпмрририри ирпрнп. Гппри. Доримчыоы.\n"
     ]
    }
   ],
   "source": [
    "some_text = 'ПриПГОитОП ПтирирнпПППТРи. ПМПМрририри ирпрнп. гппри. Доримчыоы.'\n",
    "\n",
    "some_text=some_text.split('.')\n",
    "for i in some_text:\n",
    "    if(len(i)==0):\n",
    "        del some_text[some_text.index(i)]\n",
    "        \n",
    "def funct(i):\n",
    "    a = i.lstrip().lower()\n",
    "    return a[0].upper()+a[1:]+'.'\n",
    "\n",
    "res4 = ' '.join(list(map(funct, some_text1)))\n",
    "print(res4)"
   ]
  },
  {
   "cell_type": "code",
   "execution_count": null,
   "metadata": {},
   "outputs": [],
   "source": []
  },
  {
   "cell_type": "code",
   "execution_count": null,
   "metadata": {},
   "outputs": [],
   "source": []
  }
 ],
 "metadata": {
  "kernelspec": {
   "display_name": "Python 3",
   "language": "python",
   "name": "python3"
  },
  "language_info": {
   "codemirror_mode": {
    "name": "ipython",
    "version": 3
   },
   "file_extension": ".py",
   "mimetype": "text/x-python",
   "name": "python",
   "nbconvert_exporter": "python",
   "pygments_lexer": "ipython3",
   "version": "3.7.4"
  }
 },
 "nbformat": 4,
 "nbformat_minor": 2
}
